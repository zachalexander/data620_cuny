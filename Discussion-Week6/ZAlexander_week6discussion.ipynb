{
 "cells": [
  {
   "cell_type": "markdown",
   "metadata": {},
   "source": [
    "### DATA 620: Week 6 - Part 1 Sentiment Analysis and Value Drivers\n",
    "##### Zach Alexander\n",
    "\n",
    "##### Instructions\n",
    "Please find and cite a specific code-based example on the web that describes how sentiment analysis has created value (e.g. business value or social good).  You should briefly synopsize (1) The (business) domain under discussion, (2) the problem that sentiment analysis addresses, (3) the approach used, then (4) describe if possible a different domain where the same approach might also be effective.\n",
    "\n",
    "Here is an example of what I mean by a code-based example on sentiment analysis:  tlfvincent (2014): Using sentiment analysis to predict ratings of popular tv series."
   ]
  },
  {
   "cell_type": "markdown",
   "metadata": {},
   "source": [
    "##### Sentiment Analysis Providing Business Value: Analyzing Television Scripts\n",
    "\n",
    "*The Office (US)* is a fairly reknown television show that aired in the early 2000s. Many of its characters had dynamic personalities, and the data is available for each episode's transcript. For data scientists, analyzing movie and television transcripts and conducting sentiment analysis can help provide insight into the tone and overall image of particular characters.\n",
    "\n",
    "1) In hollywood, this text analysis of scripts, and sentiment analysis can be quite beneficial, to ensure that writers and producers can align the sentiment of characters with how their audience prefers to see them portrayed. If, for instance, Michael Scott, a main character in the officer were to deviate from his personality in an episode, and the audience reacted poorly to this, it would be valuable for the writers and staff to determine where they may have been misaligned and perform some course-corrections before the next episode.  \n",
    "\n",
    "2) If the audience reacts positively to characters that portray a more negative sentiment, then it would be in the interest of the writers to continue to write scripts for this character trying to match this sentiment in future episodes. \n",
    "\n",
    "3) In [this article here](https://towardsdatascience.com/nlp-on-the-office-series-cf0ed44430d1), a data scientist used sentiment analysis to map which characters had more negative/positive sentiments. As a fan of *The Office*, it was interesting to see that the sentiment analysis mapped very closely to my interpretation of the characters, Angela and Dwight had much more negative sentiment, while Michael, Pam, and Jim had much more positive sentiment. As audience members we subtly make these distinctions, but sentiment analysis can help writers and producers hone in on any fluctuations in their writing, and how that will play with their audience. \n",
    "\n",
    "4) This type of analysis can be used in so many different domains. However, as someone that works in the criminal justice field, it would be interesting if court transcripts could be used to measure sentiment analysis of judges and attorneys. As someone that is a champion of providing a more fair and just process for those that are arrested for minor crimes, being able to make this type of information available to defense attorneys and defendants may go a long way in preparing them for an upcoming court case.  \n",
    "\n",
    "\n",
    "\n"
   ]
  },
  {
   "cell_type": "markdown",
   "metadata": {},
   "source": [
    "##### Source\n",
    "\n",
    "https://towardsdatascience.com/nlp-on-the-office-series-cf0ed44430d1"
   ]
  },
  {
   "cell_type": "code",
   "execution_count": null,
   "metadata": {},
   "outputs": [],
   "source": []
  }
 ],
 "metadata": {
  "kernelspec": {
   "display_name": "Python 3",
   "language": "python",
   "name": "python3"
  },
  "language_info": {
   "codemirror_mode": {
    "name": "ipython",
    "version": 3
   },
   "file_extension": ".py",
   "mimetype": "text/x-python",
   "name": "python",
   "nbconvert_exporter": "python",
   "pygments_lexer": "ipython3",
   "version": "3.7.6"
  }
 },
 "nbformat": 4,
 "nbformat_minor": 4
}
