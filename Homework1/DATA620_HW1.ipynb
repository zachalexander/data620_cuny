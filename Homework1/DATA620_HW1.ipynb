{
 "cells": [
  {
   "cell_type": "markdown",
   "metadata": {},
   "source": [
    "### Importing packages\n",
    "The below packages were imported in order to create our basic graph. We decided to use NetworkX for our graph visualization."
   ]
  },
  {
   "cell_type": "code",
   "execution_count": 1,
   "metadata": {},
   "outputs": [],
   "source": [
    "import networkx as nx\n",
    "import matplotlib.pyplot as plt"
   ]
  },
  {
   "cell_type": "markdown",
   "metadata": {},
   "source": [
    "### Utilizing NetworkX to create our basic graph\n",
    "After loading the necessary packages, we then used the Graph() method to create an empty graph with no nodes and edges. The code is below:"
   ]
  },
  {
   "cell_type": "code",
   "execution_count": 2,
   "metadata": {},
   "outputs": [],
   "source": [
    " G = nx.Graph()"
   ]
  },
  {
   "cell_type": "markdown",
   "metadata": {},
   "source": [
    "Then, by adding a list of edges below, and utilizing the add_edges_from() method in the NetworkX package, we were able to set up our basic graph."
   ]
  },
  {
   "cell_type": "code",
   "execution_count": 3,
   "metadata": {},
   "outputs": [],
   "source": [
    "G.add_edges_from([(\"A\",\"B\"),(\"A\",\"C\"),(\"A\",\"D\"),(\"A\",\"F\"),(\"B\",\"D\"),(\"B\",\"E\"),(\"B\",\"G\"),(\"C\",\"D\"),(\"C\",\"F\"),(\"D\",\"E\"),(\"D\",\"F\"),(\"D\",\"G\"),(\"E\",\"G\"),(\"F\",\"G\"),(\"F\",\"H\"),(\"G\",\"H\"),(\"H\",\"I\"),(\"I\",\"J\")])"
   ]
  },
  {
   "cell_type": "markdown",
   "metadata": {},
   "source": [
    "In combination with the NetworkX package, the matplotlib package will allow us to draw our basic graph. Below is our code to generate our visual:"
   ]
  },
  {
   "cell_type": "code",
   "execution_count": 4,
   "metadata": {},
   "outputs": [
    {
     "data": {
      "image/png": "[encoded data removed]",
      "text/plain": [
       "<Figure size 432x288 with 1 Axes>"
      ]
     },
     "metadata": {},
     "output_type": "display_data"
    }
   ],
   "source": [
    "nx.draw(G, with_labels = True, font_weight='bold', node_size = 500)"
   ]
  },
  {
   "cell_type": "markdown",
   "metadata": {},
   "source": [
    "Our above graph represents a Krackhardt kite social network, with 10 nodes and 18 edges. We can see this below as well by utilizing other methods in the NetworkX package to count the edges and nodes:"
   ]
  },
  {
   "cell_type": "code",
   "execution_count": 5,
   "metadata": {},
   "outputs": [
    {
     "data": {
      "text/plain": [
       "18"
      ]
     },
     "execution_count": 5,
     "metadata": {},
     "output_type": "execute_result"
    }
   ],
   "source": [
    "G.number_of_edges()"
   ]
  },
  {
   "cell_type": "code",
   "execution_count": 6,
   "metadata": {},
   "outputs": [
    {
     "data": {
      "text/plain": [
       "10"
      ]
     },
     "execution_count": 6,
     "metadata": {},
     "output_type": "execute_result"
    }
   ],
   "source": [
    "G.number_of_nodes()"
   ]
  },
  {
   "cell_type": "markdown",
   "metadata": {},
   "source": [
    "And we can list the edges and nodes by using the following syntax:"
   ]
  },
  {
   "cell_type": "code",
   "execution_count": 8,
   "metadata": {},
   "outputs": [
    {
     "data": {
      "text/plain": [
       "EdgeView([('A', 'B'), ('A', 'C'), ('A', 'D'), ('A', 'F'), ('B', 'D'), ('B', 'E'), ('B', 'G'), ('C', 'D'), ('C', 'F'), ('D', 'E'), ('D', 'F'), ('D', 'G'), ('F', 'G'), ('F', 'H'), ('E', 'G'), ('G', 'H'), ('H', 'I'), ('I', 'J')])"
      ]
     },
     "execution_count": 8,
     "metadata": {},
     "output_type": "execute_result"
    }
   ],
   "source": [
    "G.edges()"
   ]
  },
  {
   "cell_type": "code",
   "execution_count": 9,
   "metadata": {},
   "outputs": [
    {
     "data": {
      "text/plain": [
       "NodeView(('A', 'B', 'C', 'D', 'F', 'E', 'G', 'H', 'I', 'J'))"
      ]
     },
     "execution_count": 9,
     "metadata": {},
     "output_type": "execute_result"
    }
   ],
   "source": [
    "G.nodes()"
   ]
  },
  {
   "cell_type": "markdown",
   "metadata": {},
   "source": [
    "### Going Further: A Depth-First Traversal\n",
    "With our graph created, we can start to perform basic analysis on our network. One way to do this is to do a \"traversal\", which crawls the graph by means of an algorithm, that from some starting point, follows links to its neighbors, and then to their neighbors and so on, in a certain predetermined order.\n",
    "\n",
    "One such traversal that we can utilize is the \"Depth-first search (DFS)\":"
   ]
  },
  {
   "cell_type": "code",
   "execution_count": 66,
   "metadata": {},
   "outputs": [],
   "source": [
    "from networkx.algorithms import traversal"
   ]
  },
  {
   "cell_type": "markdown",
   "metadata": {},
   "source": [
    "After importing the traversal library, we can use the traversal method to find the edges of this DFS traversal:"
   ]
  },
  {
   "cell_type": "code",
   "execution_count": 89,
   "metadata": {},
   "outputs": [],
   "source": [
    "edges = traversal.dfs_edges(G)"
   ]
  },
  {
   "cell_type": "code",
   "execution_count": 90,
   "metadata": {},
   "outputs": [
    {
     "data": {
      "text/plain": [
       "[('A', 'B'),\n",
       " ('B', 'D'),\n",
       " ('D', 'C'),\n",
       " ('C', 'F'),\n",
       " ('F', 'G'),\n",
       " ('G', 'E'),\n",
       " ('G', 'H'),\n",
       " ('H', 'I'),\n",
       " ('I', 'J')]"
      ]
     },
     "execution_count": 90,
     "metadata": {},
     "output_type": "execute_result"
    }
   ],
   "source": [
    "list(edges)"
   ]
  },
  {
   "cell_type": "markdown",
   "metadata": {},
   "source": [
    "We can also draw the edges in a tree:"
   ]
  },
  {
   "cell_type": "code",
   "execution_count": 91,
   "metadata": {},
   "outputs": [
    {
     "data": {
      "image/png": "[encoded data removed]",
      "text/plain": [
       "<Figure size 432x288 with 1 Axes>"
      ]
     },
     "metadata": {},
     "output_type": "display_data"
    }
   ],
   "source": [
    "tree = nx.dfs_tree(G)\n",
    "nx.draw(tree, with_labels = True, font_weight='bold', node_size = 500)"
   ]
  },
  {
   "cell_type": "markdown",
   "metadata": {},
   "source": [
    "As we can see from the above DFS tree, the DFS traversal started at the first known node of \"A\", and crawled down the kite until it reached its goal of \"J\". As we can see it transversed in depth and only backtracking at points where it would be connecting back to a node that already had been visited. We can see this from \"G\" to \"E\", where it went back to \"G\" when the algorithm realized it had already been to \"B\", thus progressing from \"G\" to \"H\" and then so on until it reached its goal of \"J\"."
   ]
  },
  {
   "cell_type": "code",
   "execution_count": null,
   "metadata": {},
   "outputs": [],
   "source": []
  }
 ],
 "metadata": {
  "kernelspec": {
   "display_name": "Python 3",
   "language": "python",
   "name": "python3"
  },
  "language_info": {
   "codemirror_mode": {
    "name": "ipython",
    "version": 3
   },
   "file_extension": ".py",
   "mimetype": "text/x-python",
   "name": "python",
   "nbconvert_exporter": "python",
   "pygments_lexer": "ipython3",
   "version": "3.7.6"
  }
 },
 "nbformat": 4,
 "nbformat_minor": 2
}
